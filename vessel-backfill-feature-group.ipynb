{
 "cells": [
  {
   "cell_type": "code",
   "execution_count": 2,
   "outputs": [],
   "source": [
    "# Env\n",
    "import os\n",
    "from dotenv import load_dotenv\n",
    "if not load_dotenv() or 'HOPSWORKS_API_KEY' not in os.environ:\n",
    "    print(\"Please provide a .env file add HOPSWORKS_API_KEY to it.\")\n",
    "    exit(1)\n",
    "\n",
    "# Imports\n",
    "import seaborn as sns\n",
    "sns.set_palette('husl')\n",
    "import matplotlib.pyplot as plt\n",
    "import hopsworks\n",
    "import pandas as pd"
   ],
   "metadata": {
    "collapsed": false,
    "ExecuteTime": {
     "end_time": "2024-01-08T18:25:57.094224276Z",
     "start_time": "2024-01-08T18:25:56.082785131Z"
    }
   },
   "id": "a327e3db25ef4ec5"
  },
  {
   "cell_type": "code",
   "execution_count": 3,
   "outputs": [
    {
     "name": "stdout",
     "output_type": "stream",
     "text": [
      "Connected. Call `.close()` to terminate connection gracefully.\n",
      "\n",
      "Logged in to project, explore it here https://c.app.hopsworks.ai:443/p/201877\n",
      "Connected. Call `.close()` to terminate connection gracefully.\n"
     ]
    }
   ],
   "source": [
    "project = hopsworks.login()\n",
    "fs = project.get_feature_store()"
   ],
   "metadata": {
    "collapsed": false,
    "ExecuteTime": {
     "end_time": "2024-01-08T18:26:00.956692610Z",
     "start_time": "2024-01-08T18:25:59.444835523Z"
    }
   },
   "id": "5e78b572326a9535"
  },
  {
   "cell_type": "code",
   "execution_count": 4,
   "outputs": [
    {
     "data": {
      "text/plain": "          ship_id             ship_name   latitude  longitude  \\\n0       304997000  WILSON DIRDAL         60.125667  19.102500   \n1       236111925  SOUND SOLUTION        59.354483  17.964942   \n2       265518880  RESCUE BURRE          57.418768  16.677853   \n3       265585310  JUPITER               59.388627  18.327317   \n4       265647200  ASKHOLMEN             59.538273  18.750687   \n...           ...                   ...        ...        ...   \n104450  265532910                   NaN  59.328862  18.088587   \n104451  265650810                   NaN  59.354137  18.050013   \n104452  265702750               ESTELLE  58.488998  16.942075   \n104453  230985650               OSMERUS  60.520253  21.659818   \n104454  212255000              BJOERNOE  59.353633  18.111350   \n\n                                           time  dim_a  dim_b  dim_c  dim_d  \\\n0       2024-01-04 09:14:59.591590409 +0000 UTC   75.0   13.0    5.0    8.0   \n1       2024-01-04 09:15:21.493471037 +0000 UTC   12.0   13.0    4.0    6.0   \n2       2024-01-04 09:15:13.416253033 +0000 UTC    6.0    6.0    2.0    2.0   \n3       2024-01-04 09:15:12.400625784 +0000 UTC   43.0   43.0    9.0    9.0   \n4       2024-01-04 09:15:29.444613983 +0000 UTC   15.0    6.0    3.0    3.0   \n...                                         ...    ...    ...    ...    ...   \n104450  2024-01-08 18:14:47.305849861 +0000 UTC   20.0   10.0    2.0    4.0   \n104451  2024-01-08 18:16:40.183182999 +0000 UTC    4.0    8.0    2.0    2.0   \n104452  2024-01-08 18:18:57.083635955 +0000 UTC    4.0    9.0    2.0    2.0   \n104453  2024-01-08 18:18:13.852976473 +0000 UTC    5.0   10.0    4.0    1.0   \n104454  2024-01-08 18:16:43.657441451 +0000 UTC   92.0   15.0    8.0    8.0   \n\n        length  width  eta_day  eta_hour  eta_minute  eta_month  \\\n0         88.0   13.0      4.0      11.0         0.0        1.0   \n1         25.0   10.0     28.0       9.0         0.0       12.0   \n2         12.0    4.0     31.0      23.0        59.0       12.0   \n3         86.0   18.0      0.0      24.0        60.0        0.0   \n4         21.0    6.0     10.0      12.0         0.0        8.0   \n...        ...    ...      ...       ...         ...        ...   \n104450    30.0    6.0      NaN       NaN         NaN        NaN   \n104451    12.0    4.0      NaN       NaN         NaN        NaN   \n104452    13.0    4.0      NaN       NaN         NaN        NaN   \n104453    15.0    5.0      7.0      20.0        30.0       12.0   \n104454   107.0   16.0      9.0      21.0         0.0        1.0   \n\n                 destination  ship_type  ship_heading  ship_speed  \n0       FOR ORDER                  79.0         138.0         7.2  \n1       STOCKHOLM                  52.0         254.0         0.0  \n2       SWEDISH SAR VESSEL         51.0          87.0         0.0  \n3       LJUSTERO<>OSTANA :-)       65.0         147.0         0.0  \n4                KLINTSUNDET       99.0         511.0         0.1  \n...                      ...        ...           ...         ...  \n104450                   NaN       36.0         511.0         0.0  \n104451                   NaN       37.0         511.0         0.0  \n104452                   NaN       60.0         240.0         0.0  \n104453           TUOMARAINEN       30.0          94.0         0.1  \n104454                 MUUGA       79.0          80.0         0.0  \n\n[104455 rows x 19 columns]",
      "text/html": "<div>\n<style scoped>\n    .dataframe tbody tr th:only-of-type {\n        vertical-align: middle;\n    }\n\n    .dataframe tbody tr th {\n        vertical-align: top;\n    }\n\n    .dataframe thead th {\n        text-align: right;\n    }\n</style>\n<table border=\"1\" class=\"dataframe\">\n  <thead>\n    <tr style=\"text-align: right;\">\n      <th></th>\n      <th>ship_id</th>\n      <th>ship_name</th>\n      <th>latitude</th>\n      <th>longitude</th>\n      <th>time</th>\n      <th>dim_a</th>\n      <th>dim_b</th>\n      <th>dim_c</th>\n      <th>dim_d</th>\n      <th>length</th>\n      <th>width</th>\n      <th>eta_day</th>\n      <th>eta_hour</th>\n      <th>eta_minute</th>\n      <th>eta_month</th>\n      <th>destination</th>\n      <th>ship_type</th>\n      <th>ship_heading</th>\n      <th>ship_speed</th>\n    </tr>\n  </thead>\n  <tbody>\n    <tr>\n      <th>0</th>\n      <td>304997000</td>\n      <td>WILSON DIRDAL</td>\n      <td>60.125667</td>\n      <td>19.102500</td>\n      <td>2024-01-04 09:14:59.591590409 +0000 UTC</td>\n      <td>75.0</td>\n      <td>13.0</td>\n      <td>5.0</td>\n      <td>8.0</td>\n      <td>88.0</td>\n      <td>13.0</td>\n      <td>4.0</td>\n      <td>11.0</td>\n      <td>0.0</td>\n      <td>1.0</td>\n      <td>FOR ORDER</td>\n      <td>79.0</td>\n      <td>138.0</td>\n      <td>7.2</td>\n    </tr>\n    <tr>\n      <th>1</th>\n      <td>236111925</td>\n      <td>SOUND SOLUTION</td>\n      <td>59.354483</td>\n      <td>17.964942</td>\n      <td>2024-01-04 09:15:21.493471037 +0000 UTC</td>\n      <td>12.0</td>\n      <td>13.0</td>\n      <td>4.0</td>\n      <td>6.0</td>\n      <td>25.0</td>\n      <td>10.0</td>\n      <td>28.0</td>\n      <td>9.0</td>\n      <td>0.0</td>\n      <td>12.0</td>\n      <td>STOCKHOLM</td>\n      <td>52.0</td>\n      <td>254.0</td>\n      <td>0.0</td>\n    </tr>\n    <tr>\n      <th>2</th>\n      <td>265518880</td>\n      <td>RESCUE BURRE</td>\n      <td>57.418768</td>\n      <td>16.677853</td>\n      <td>2024-01-04 09:15:13.416253033 +0000 UTC</td>\n      <td>6.0</td>\n      <td>6.0</td>\n      <td>2.0</td>\n      <td>2.0</td>\n      <td>12.0</td>\n      <td>4.0</td>\n      <td>31.0</td>\n      <td>23.0</td>\n      <td>59.0</td>\n      <td>12.0</td>\n      <td>SWEDISH SAR VESSEL</td>\n      <td>51.0</td>\n      <td>87.0</td>\n      <td>0.0</td>\n    </tr>\n    <tr>\n      <th>3</th>\n      <td>265585310</td>\n      <td>JUPITER</td>\n      <td>59.388627</td>\n      <td>18.327317</td>\n      <td>2024-01-04 09:15:12.400625784 +0000 UTC</td>\n      <td>43.0</td>\n      <td>43.0</td>\n      <td>9.0</td>\n      <td>9.0</td>\n      <td>86.0</td>\n      <td>18.0</td>\n      <td>0.0</td>\n      <td>24.0</td>\n      <td>60.0</td>\n      <td>0.0</td>\n      <td>LJUSTERO&lt;&gt;OSTANA :-)</td>\n      <td>65.0</td>\n      <td>147.0</td>\n      <td>0.0</td>\n    </tr>\n    <tr>\n      <th>4</th>\n      <td>265647200</td>\n      <td>ASKHOLMEN</td>\n      <td>59.538273</td>\n      <td>18.750687</td>\n      <td>2024-01-04 09:15:29.444613983 +0000 UTC</td>\n      <td>15.0</td>\n      <td>6.0</td>\n      <td>3.0</td>\n      <td>3.0</td>\n      <td>21.0</td>\n      <td>6.0</td>\n      <td>10.0</td>\n      <td>12.0</td>\n      <td>0.0</td>\n      <td>8.0</td>\n      <td>KLINTSUNDET</td>\n      <td>99.0</td>\n      <td>511.0</td>\n      <td>0.1</td>\n    </tr>\n    <tr>\n      <th>...</th>\n      <td>...</td>\n      <td>...</td>\n      <td>...</td>\n      <td>...</td>\n      <td>...</td>\n      <td>...</td>\n      <td>...</td>\n      <td>...</td>\n      <td>...</td>\n      <td>...</td>\n      <td>...</td>\n      <td>...</td>\n      <td>...</td>\n      <td>...</td>\n      <td>...</td>\n      <td>...</td>\n      <td>...</td>\n      <td>...</td>\n      <td>...</td>\n    </tr>\n    <tr>\n      <th>104450</th>\n      <td>265532910</td>\n      <td>NaN</td>\n      <td>59.328862</td>\n      <td>18.088587</td>\n      <td>2024-01-08 18:14:47.305849861 +0000 UTC</td>\n      <td>20.0</td>\n      <td>10.0</td>\n      <td>2.0</td>\n      <td>4.0</td>\n      <td>30.0</td>\n      <td>6.0</td>\n      <td>NaN</td>\n      <td>NaN</td>\n      <td>NaN</td>\n      <td>NaN</td>\n      <td>NaN</td>\n      <td>36.0</td>\n      <td>511.0</td>\n      <td>0.0</td>\n    </tr>\n    <tr>\n      <th>104451</th>\n      <td>265650810</td>\n      <td>NaN</td>\n      <td>59.354137</td>\n      <td>18.050013</td>\n      <td>2024-01-08 18:16:40.183182999 +0000 UTC</td>\n      <td>4.0</td>\n      <td>8.0</td>\n      <td>2.0</td>\n      <td>2.0</td>\n      <td>12.0</td>\n      <td>4.0</td>\n      <td>NaN</td>\n      <td>NaN</td>\n      <td>NaN</td>\n      <td>NaN</td>\n      <td>NaN</td>\n      <td>37.0</td>\n      <td>511.0</td>\n      <td>0.0</td>\n    </tr>\n    <tr>\n      <th>104452</th>\n      <td>265702750</td>\n      <td>ESTELLE</td>\n      <td>58.488998</td>\n      <td>16.942075</td>\n      <td>2024-01-08 18:18:57.083635955 +0000 UTC</td>\n      <td>4.0</td>\n      <td>9.0</td>\n      <td>2.0</td>\n      <td>2.0</td>\n      <td>13.0</td>\n      <td>4.0</td>\n      <td>NaN</td>\n      <td>NaN</td>\n      <td>NaN</td>\n      <td>NaN</td>\n      <td>NaN</td>\n      <td>60.0</td>\n      <td>240.0</td>\n      <td>0.0</td>\n    </tr>\n    <tr>\n      <th>104453</th>\n      <td>230985650</td>\n      <td>OSMERUS</td>\n      <td>60.520253</td>\n      <td>21.659818</td>\n      <td>2024-01-08 18:18:13.852976473 +0000 UTC</td>\n      <td>5.0</td>\n      <td>10.0</td>\n      <td>4.0</td>\n      <td>1.0</td>\n      <td>15.0</td>\n      <td>5.0</td>\n      <td>7.0</td>\n      <td>20.0</td>\n      <td>30.0</td>\n      <td>12.0</td>\n      <td>TUOMARAINEN</td>\n      <td>30.0</td>\n      <td>94.0</td>\n      <td>0.1</td>\n    </tr>\n    <tr>\n      <th>104454</th>\n      <td>212255000</td>\n      <td>BJOERNOE</td>\n      <td>59.353633</td>\n      <td>18.111350</td>\n      <td>2024-01-08 18:16:43.657441451 +0000 UTC</td>\n      <td>92.0</td>\n      <td>15.0</td>\n      <td>8.0</td>\n      <td>8.0</td>\n      <td>107.0</td>\n      <td>16.0</td>\n      <td>9.0</td>\n      <td>21.0</td>\n      <td>0.0</td>\n      <td>1.0</td>\n      <td>MUUGA</td>\n      <td>79.0</td>\n      <td>80.0</td>\n      <td>0.0</td>\n    </tr>\n  </tbody>\n</table>\n<p>104455 rows × 19 columns</p>\n</div>"
     },
     "execution_count": 4,
     "metadata": {},
     "output_type": "execute_result"
    }
   ],
   "source": [
    "vessel_df = pd.read_csv(\"./backfill/vessel_data.csv\")\n",
    "vessel_df"
   ],
   "metadata": {
    "collapsed": false,
    "ExecuteTime": {
     "end_time": "2024-01-08T18:26:03.556853843Z",
     "start_time": "2024-01-08T18:26:03.266870240Z"
    }
   },
   "id": "da573a9d43a713b2"
  },
  {
   "cell_type": "code",
   "execution_count": 5,
   "outputs": [
    {
     "name": "stdout",
     "output_type": "stream",
     "text": [
      "<class 'pandas.core.frame.DataFrame'>\n",
      "RangeIndex: 104455 entries, 0 to 104454\n",
      "Data columns (total 19 columns):\n",
      " #   Column        Non-Null Count   Dtype  \n",
      "---  ------        --------------   -----  \n",
      " 0   ship_id       104455 non-null  int64  \n",
      " 1   ship_name     102152 non-null  object \n",
      " 2   latitude      104455 non-null  float64\n",
      " 3   longitude     104455 non-null  float64\n",
      " 4   time          104455 non-null  object \n",
      " 5   dim_a         104455 non-null  float64\n",
      " 6   dim_b         104455 non-null  float64\n",
      " 7   dim_c         104455 non-null  float64\n",
      " 8   dim_d         104455 non-null  float64\n",
      " 9   length        104455 non-null  float64\n",
      " 10  width         104455 non-null  float64\n",
      " 11  eta_day       98391 non-null   float64\n",
      " 12  eta_hour      98391 non-null   float64\n",
      " 13  eta_minute    98391 non-null   float64\n",
      " 14  eta_month     98391 non-null   float64\n",
      " 15  destination   82371 non-null   object \n",
      " 16  ship_type     104455 non-null  float64\n",
      " 17  ship_heading  104455 non-null  float64\n",
      " 18  ship_speed    104455 non-null  float64\n",
      "dtypes: float64(15), int64(1), object(3)\n",
      "memory usage: 15.1+ MB\n"
     ]
    }
   ],
   "source": [
    "vessel_df.info()"
   ],
   "metadata": {
    "collapsed": false,
    "ExecuteTime": {
     "end_time": "2024-01-08T18:26:08.939292687Z",
     "start_time": "2024-01-08T18:26:08.864863917Z"
    }
   },
   "id": "1f1290e393f7faee"
  },
  {
   "cell_type": "code",
   "outputs": [
    {
     "data": {
      "text/plain": "ship_id             0\nship_name        2303\nlatitude            0\nlongitude           0\ntime                0\ndim_a               0\ndim_b               0\ndim_c               0\ndim_d               0\nlength              0\nwidth               0\neta_day          6064\neta_hour         6064\neta_minute       6064\neta_month        6064\ndestination     22084\nship_type           0\nship_heading        0\nship_speed          0\ndtype: int64"
     },
     "execution_count": 7,
     "metadata": {},
     "output_type": "execute_result"
    }
   ],
   "source": [
    "vessel_df.isnull().sum()"
   ],
   "metadata": {
    "collapsed": false,
    "ExecuteTime": {
     "end_time": "2024-01-08T18:27:46.999780762Z",
     "start_time": "2024-01-08T18:27:46.929162521Z"
    }
   },
   "id": "ee94074a933efe0",
   "execution_count": 7
  },
  {
   "cell_type": "code",
   "outputs": [
    {
     "data": {
      "text/plain": "          ship_id   latitude  longitude  \\\n0       304997000  60.125667  19.102500   \n1       236111925  59.354483  17.964942   \n2       265518880  57.418768  16.677853   \n3       265585310  59.388627  18.327317   \n4       265647200  59.538273  18.750687   \n...           ...        ...        ...   \n104450  265532910  59.328862  18.088587   \n104451  265650810  59.354137  18.050013   \n104452  265702750  58.488998  16.942075   \n104453  230985650  60.520253  21.659818   \n104454  212255000  59.353633  18.111350   \n\n                                           time  dim_a  dim_b  dim_c  dim_d  \\\n0       2024-01-04 09:14:59.591590409 +0000 UTC   75.0   13.0    5.0    8.0   \n1       2024-01-04 09:15:21.493471037 +0000 UTC   12.0   13.0    4.0    6.0   \n2       2024-01-04 09:15:13.416253033 +0000 UTC    6.0    6.0    2.0    2.0   \n3       2024-01-04 09:15:12.400625784 +0000 UTC   43.0   43.0    9.0    9.0   \n4       2024-01-04 09:15:29.444613983 +0000 UTC   15.0    6.0    3.0    3.0   \n...                                         ...    ...    ...    ...    ...   \n104450  2024-01-08 18:14:47.305849861 +0000 UTC   20.0   10.0    2.0    4.0   \n104451  2024-01-08 18:16:40.183182999 +0000 UTC    4.0    8.0    2.0    2.0   \n104452  2024-01-08 18:18:57.083635955 +0000 UTC    4.0    9.0    2.0    2.0   \n104453  2024-01-08 18:18:13.852976473 +0000 UTC    5.0   10.0    4.0    1.0   \n104454  2024-01-08 18:16:43.657441451 +0000 UTC   92.0   15.0    8.0    8.0   \n\n        length  width  ship_type  ship_heading  ship_speed  \n0         88.0   13.0       79.0         138.0         7.2  \n1         25.0   10.0       52.0         254.0         0.0  \n2         12.0    4.0       51.0          87.0         0.0  \n3         86.0   18.0       65.0         147.0         0.0  \n4         21.0    6.0       99.0         511.0         0.1  \n...        ...    ...        ...           ...         ...  \n104450    30.0    6.0       36.0         511.0         0.0  \n104451    12.0    4.0       37.0         511.0         0.0  \n104452    13.0    4.0       60.0         240.0         0.0  \n104453    15.0    5.0       30.0          94.0         0.1  \n104454   107.0   16.0       79.0          80.0         0.0  \n\n[104455 rows x 13 columns]",
      "text/html": "<div>\n<style scoped>\n    .dataframe tbody tr th:only-of-type {\n        vertical-align: middle;\n    }\n\n    .dataframe tbody tr th {\n        vertical-align: top;\n    }\n\n    .dataframe thead th {\n        text-align: right;\n    }\n</style>\n<table border=\"1\" class=\"dataframe\">\n  <thead>\n    <tr style=\"text-align: right;\">\n      <th></th>\n      <th>ship_id</th>\n      <th>latitude</th>\n      <th>longitude</th>\n      <th>time</th>\n      <th>dim_a</th>\n      <th>dim_b</th>\n      <th>dim_c</th>\n      <th>dim_d</th>\n      <th>length</th>\n      <th>width</th>\n      <th>ship_type</th>\n      <th>ship_heading</th>\n      <th>ship_speed</th>\n    </tr>\n  </thead>\n  <tbody>\n    <tr>\n      <th>0</th>\n      <td>304997000</td>\n      <td>60.125667</td>\n      <td>19.102500</td>\n      <td>2024-01-04 09:14:59.591590409 +0000 UTC</td>\n      <td>75.0</td>\n      <td>13.0</td>\n      <td>5.0</td>\n      <td>8.0</td>\n      <td>88.0</td>\n      <td>13.0</td>\n      <td>79.0</td>\n      <td>138.0</td>\n      <td>7.2</td>\n    </tr>\n    <tr>\n      <th>1</th>\n      <td>236111925</td>\n      <td>59.354483</td>\n      <td>17.964942</td>\n      <td>2024-01-04 09:15:21.493471037 +0000 UTC</td>\n      <td>12.0</td>\n      <td>13.0</td>\n      <td>4.0</td>\n      <td>6.0</td>\n      <td>25.0</td>\n      <td>10.0</td>\n      <td>52.0</td>\n      <td>254.0</td>\n      <td>0.0</td>\n    </tr>\n    <tr>\n      <th>2</th>\n      <td>265518880</td>\n      <td>57.418768</td>\n      <td>16.677853</td>\n      <td>2024-01-04 09:15:13.416253033 +0000 UTC</td>\n      <td>6.0</td>\n      <td>6.0</td>\n      <td>2.0</td>\n      <td>2.0</td>\n      <td>12.0</td>\n      <td>4.0</td>\n      <td>51.0</td>\n      <td>87.0</td>\n      <td>0.0</td>\n    </tr>\n    <tr>\n      <th>3</th>\n      <td>265585310</td>\n      <td>59.388627</td>\n      <td>18.327317</td>\n      <td>2024-01-04 09:15:12.400625784 +0000 UTC</td>\n      <td>43.0</td>\n      <td>43.0</td>\n      <td>9.0</td>\n      <td>9.0</td>\n      <td>86.0</td>\n      <td>18.0</td>\n      <td>65.0</td>\n      <td>147.0</td>\n      <td>0.0</td>\n    </tr>\n    <tr>\n      <th>4</th>\n      <td>265647200</td>\n      <td>59.538273</td>\n      <td>18.750687</td>\n      <td>2024-01-04 09:15:29.444613983 +0000 UTC</td>\n      <td>15.0</td>\n      <td>6.0</td>\n      <td>3.0</td>\n      <td>3.0</td>\n      <td>21.0</td>\n      <td>6.0</td>\n      <td>99.0</td>\n      <td>511.0</td>\n      <td>0.1</td>\n    </tr>\n    <tr>\n      <th>...</th>\n      <td>...</td>\n      <td>...</td>\n      <td>...</td>\n      <td>...</td>\n      <td>...</td>\n      <td>...</td>\n      <td>...</td>\n      <td>...</td>\n      <td>...</td>\n      <td>...</td>\n      <td>...</td>\n      <td>...</td>\n      <td>...</td>\n    </tr>\n    <tr>\n      <th>104450</th>\n      <td>265532910</td>\n      <td>59.328862</td>\n      <td>18.088587</td>\n      <td>2024-01-08 18:14:47.305849861 +0000 UTC</td>\n      <td>20.0</td>\n      <td>10.0</td>\n      <td>2.0</td>\n      <td>4.0</td>\n      <td>30.0</td>\n      <td>6.0</td>\n      <td>36.0</td>\n      <td>511.0</td>\n      <td>0.0</td>\n    </tr>\n    <tr>\n      <th>104451</th>\n      <td>265650810</td>\n      <td>59.354137</td>\n      <td>18.050013</td>\n      <td>2024-01-08 18:16:40.183182999 +0000 UTC</td>\n      <td>4.0</td>\n      <td>8.0</td>\n      <td>2.0</td>\n      <td>2.0</td>\n      <td>12.0</td>\n      <td>4.0</td>\n      <td>37.0</td>\n      <td>511.0</td>\n      <td>0.0</td>\n    </tr>\n    <tr>\n      <th>104452</th>\n      <td>265702750</td>\n      <td>58.488998</td>\n      <td>16.942075</td>\n      <td>2024-01-08 18:18:57.083635955 +0000 UTC</td>\n      <td>4.0</td>\n      <td>9.0</td>\n      <td>2.0</td>\n      <td>2.0</td>\n      <td>13.0</td>\n      <td>4.0</td>\n      <td>60.0</td>\n      <td>240.0</td>\n      <td>0.0</td>\n    </tr>\n    <tr>\n      <th>104453</th>\n      <td>230985650</td>\n      <td>60.520253</td>\n      <td>21.659818</td>\n      <td>2024-01-08 18:18:13.852976473 +0000 UTC</td>\n      <td>5.0</td>\n      <td>10.0</td>\n      <td>4.0</td>\n      <td>1.0</td>\n      <td>15.0</td>\n      <td>5.0</td>\n      <td>30.0</td>\n      <td>94.0</td>\n      <td>0.1</td>\n    </tr>\n    <tr>\n      <th>104454</th>\n      <td>212255000</td>\n      <td>59.353633</td>\n      <td>18.111350</td>\n      <td>2024-01-08 18:16:43.657441451 +0000 UTC</td>\n      <td>92.0</td>\n      <td>15.0</td>\n      <td>8.0</td>\n      <td>8.0</td>\n      <td>107.0</td>\n      <td>16.0</td>\n      <td>79.0</td>\n      <td>80.0</td>\n      <td>0.0</td>\n    </tr>\n  </tbody>\n</table>\n<p>104455 rows × 13 columns</p>\n</div>"
     },
     "execution_count": 14,
     "metadata": {},
     "output_type": "execute_result"
    }
   ],
   "source": [
    "# Drop columns with null/nan\n",
    "filtered_vessel_df = vessel_df.drop(columns=['ship_name', 'eta_day', 'eta_hour', 'eta_minute', 'eta_month', 'destination'])\n",
    "filtered_vessel_df"
   ],
   "metadata": {
    "collapsed": false,
    "ExecuteTime": {
     "end_time": "2024-01-08T18:47:57.935906783Z",
     "start_time": "2024-01-08T18:47:57.926596541Z"
    }
   },
   "id": "432c22c87e44328f",
   "execution_count": 14
  },
  {
   "cell_type": "code",
   "execution_count": 18,
   "outputs": [
    {
     "data": {
      "text/plain": "                 count          mean           std           min  \\\nship_id       104455.0  2.628631e+08  4.232936e+07  2.091510e+08   \nlatitude      104455.0  5.937026e+01  7.546946e-01  5.711989e+01   \nlongitude     104455.0  1.823924e+01  1.206846e+00  1.505748e+01   \ndim_a         104455.0  3.155984e+01  3.963790e+01  1.000000e+00   \ndim_b         104455.0  2.432117e+01  3.514815e+01  0.000000e+00   \ndim_c         104455.0  5.375367e+00  4.719525e+00  0.000000e+00   \ndim_d         104455.0  5.219827e+00  4.158590e+00  0.000000e+00   \nlength        104455.0  5.588066e+01  5.476156e+01  3.000000e+00   \nwidth         104455.0  1.059479e+01  7.474291e+00  1.000000e+00   \nship_type     104455.0  6.029368e+01  1.521779e+01  6.000000e+00   \nship_heading  104455.0  2.602246e+02  1.666259e+02  0.000000e+00   \nship_speed    104455.0  1.683273e+00  5.697757e+00  0.000000e+00   \n\n                       25%           50%           90%           max  \nship_id       2.558059e+08  2.655305e+08  2.658178e+08  6.360221e+08  \nlatitude      5.905233e+01  5.933103e+01  6.053499e+01  6.134453e+01  \nlongitude     1.763130e+01  1.809918e+01  1.925817e+01  2.176120e+01  \ndim_a         8.000000e+00  1.200000e+01  9.400000e+01  5.060000e+02  \ndim_b         8.000000e+00  1.500000e+01  4.100000e+01  4.260000e+02  \ndim_c         2.000000e+00  4.000000e+00  1.100000e+01  6.300000e+01  \ndim_d         2.000000e+00  4.000000e+00  1.100000e+01  6.100000e+01  \nlength        1.800000e+01  3.100000e+01  1.400000e+02  8.870000e+02  \nwidth         5.000000e+00  8.000000e+00  2.200000e+01  9.200000e+01  \nship_type     5.100000e+01  6.000000e+01  7.900000e+01  2.520000e+02  \nship_heading  1.070000e+02  2.560000e+02  5.110000e+02  5.110000e+02  \nship_speed    0.000000e+00  0.000000e+00  8.100000e+00  1.023000e+02  ",
      "text/html": "<div>\n<style scoped>\n    .dataframe tbody tr th:only-of-type {\n        vertical-align: middle;\n    }\n\n    .dataframe tbody tr th {\n        vertical-align: top;\n    }\n\n    .dataframe thead th {\n        text-align: right;\n    }\n</style>\n<table border=\"1\" class=\"dataframe\">\n  <thead>\n    <tr style=\"text-align: right;\">\n      <th></th>\n      <th>count</th>\n      <th>mean</th>\n      <th>std</th>\n      <th>min</th>\n      <th>25%</th>\n      <th>50%</th>\n      <th>90%</th>\n      <th>max</th>\n    </tr>\n  </thead>\n  <tbody>\n    <tr>\n      <th>ship_id</th>\n      <td>104455.0</td>\n      <td>2.628631e+08</td>\n      <td>4.232936e+07</td>\n      <td>2.091510e+08</td>\n      <td>2.558059e+08</td>\n      <td>2.655305e+08</td>\n      <td>2.658178e+08</td>\n      <td>6.360221e+08</td>\n    </tr>\n    <tr>\n      <th>latitude</th>\n      <td>104455.0</td>\n      <td>5.937026e+01</td>\n      <td>7.546946e-01</td>\n      <td>5.711989e+01</td>\n      <td>5.905233e+01</td>\n      <td>5.933103e+01</td>\n      <td>6.053499e+01</td>\n      <td>6.134453e+01</td>\n    </tr>\n    <tr>\n      <th>longitude</th>\n      <td>104455.0</td>\n      <td>1.823924e+01</td>\n      <td>1.206846e+00</td>\n      <td>1.505748e+01</td>\n      <td>1.763130e+01</td>\n      <td>1.809918e+01</td>\n      <td>1.925817e+01</td>\n      <td>2.176120e+01</td>\n    </tr>\n    <tr>\n      <th>dim_a</th>\n      <td>104455.0</td>\n      <td>3.155984e+01</td>\n      <td>3.963790e+01</td>\n      <td>1.000000e+00</td>\n      <td>8.000000e+00</td>\n      <td>1.200000e+01</td>\n      <td>9.400000e+01</td>\n      <td>5.060000e+02</td>\n    </tr>\n    <tr>\n      <th>dim_b</th>\n      <td>104455.0</td>\n      <td>2.432117e+01</td>\n      <td>3.514815e+01</td>\n      <td>0.000000e+00</td>\n      <td>8.000000e+00</td>\n      <td>1.500000e+01</td>\n      <td>4.100000e+01</td>\n      <td>4.260000e+02</td>\n    </tr>\n    <tr>\n      <th>dim_c</th>\n      <td>104455.0</td>\n      <td>5.375367e+00</td>\n      <td>4.719525e+00</td>\n      <td>0.000000e+00</td>\n      <td>2.000000e+00</td>\n      <td>4.000000e+00</td>\n      <td>1.100000e+01</td>\n      <td>6.300000e+01</td>\n    </tr>\n    <tr>\n      <th>dim_d</th>\n      <td>104455.0</td>\n      <td>5.219827e+00</td>\n      <td>4.158590e+00</td>\n      <td>0.000000e+00</td>\n      <td>2.000000e+00</td>\n      <td>4.000000e+00</td>\n      <td>1.100000e+01</td>\n      <td>6.100000e+01</td>\n    </tr>\n    <tr>\n      <th>length</th>\n      <td>104455.0</td>\n      <td>5.588066e+01</td>\n      <td>5.476156e+01</td>\n      <td>3.000000e+00</td>\n      <td>1.800000e+01</td>\n      <td>3.100000e+01</td>\n      <td>1.400000e+02</td>\n      <td>8.870000e+02</td>\n    </tr>\n    <tr>\n      <th>width</th>\n      <td>104455.0</td>\n      <td>1.059479e+01</td>\n      <td>7.474291e+00</td>\n      <td>1.000000e+00</td>\n      <td>5.000000e+00</td>\n      <td>8.000000e+00</td>\n      <td>2.200000e+01</td>\n      <td>9.200000e+01</td>\n    </tr>\n    <tr>\n      <th>ship_type</th>\n      <td>104455.0</td>\n      <td>6.029368e+01</td>\n      <td>1.521779e+01</td>\n      <td>6.000000e+00</td>\n      <td>5.100000e+01</td>\n      <td>6.000000e+01</td>\n      <td>7.900000e+01</td>\n      <td>2.520000e+02</td>\n    </tr>\n    <tr>\n      <th>ship_heading</th>\n      <td>104455.0</td>\n      <td>2.602246e+02</td>\n      <td>1.666259e+02</td>\n      <td>0.000000e+00</td>\n      <td>1.070000e+02</td>\n      <td>2.560000e+02</td>\n      <td>5.110000e+02</td>\n      <td>5.110000e+02</td>\n    </tr>\n    <tr>\n      <th>ship_speed</th>\n      <td>104455.0</td>\n      <td>1.683273e+00</td>\n      <td>5.697757e+00</td>\n      <td>0.000000e+00</td>\n      <td>0.000000e+00</td>\n      <td>0.000000e+00</td>\n      <td>8.100000e+00</td>\n      <td>1.023000e+02</td>\n    </tr>\n  </tbody>\n</table>\n</div>"
     },
     "execution_count": 18,
     "metadata": {},
     "output_type": "execute_result"
    }
   ],
   "source": [
    "filtered_vessel_df.describe(percentiles=[0.25, 0.50, 0.90]).T"
   ],
   "metadata": {
    "collapsed": false,
    "ExecuteTime": {
     "end_time": "2024-01-08T18:48:26.825101215Z",
     "start_time": "2024-01-08T18:48:26.743873159Z"
    }
   },
   "id": "f4ed1f1ea4f99c9e"
  },
  {
   "cell_type": "markdown",
   "source": [
    "### Insert our Vessel DataFrame into a FeatureGroup"
   ],
   "metadata": {
    "collapsed": false
   },
   "id": "215e950ff931ea73"
  },
  {
   "cell_type": "code",
   "execution_count": 20,
   "outputs": [
    {
     "name": "stdout",
     "output_type": "stream",
     "text": [
      "Feature Group created successfully, explore it at \n",
      "https://c.app.hopsworks.ai:443/p/201877/fs/201796/fg/398682\n"
     ]
    },
    {
     "data": {
      "text/plain": "Uploading Dataframe: 0.00% |          | Rows 0/104455 | Elapsed Time: 00:00 | Remaining Time: ?",
      "application/vnd.jupyter.widget-view+json": {
       "version_major": 2,
       "version_minor": 0,
       "model_id": "1d70c729dcc8495eb80411aa0a794827"
      }
     },
     "metadata": {},
     "output_type": "display_data"
    },
    {
     "name": "stdout",
     "output_type": "stream",
     "text": [
      "Launching job: vessel_1_offline_fg_materialization\n",
      "Job started successfully, you can follow the progress at \n",
      "https://c.app.hopsworks.ai/p/201877/jobs/named/vessel_1_offline_fg_materialization/executions\n"
     ]
    },
    {
     "data": {
      "text/plain": "(<hsfs.core.job.Job at 0x7feb714eb970>, None)"
     },
     "execution_count": 20,
     "metadata": {},
     "output_type": "execute_result"
    }
   ],
   "source": [
    "vessel_fg = fs.get_or_create_feature_group(\n",
    "    name=\"vessel\",\n",
    "    version=1,\n",
    "    primary_key=[\"ship_id\", \"time\"], \n",
    "    description=\"Vesel dataset\")\n",
    "vessel_fg.insert(filtered_vessel_df)"
   ],
   "metadata": {
    "collapsed": false,
    "ExecuteTime": {
     "end_time": "2024-01-08T18:50:21.622931193Z",
     "start_time": "2024-01-08T18:49:57.645473285Z"
    }
   },
   "id": "be32a148f49c40e1"
  }
 ],
 "metadata": {
  "kernelspec": {
   "display_name": "Python 3",
   "language": "python",
   "name": "python3"
  },
  "language_info": {
   "codemirror_mode": {
    "name": "ipython",
    "version": 2
   },
   "file_extension": ".py",
   "mimetype": "text/x-python",
   "name": "python",
   "nbconvert_exporter": "python",
   "pygments_lexer": "ipython2",
   "version": "2.7.6"
  }
 },
 "nbformat": 4,
 "nbformat_minor": 5
}
